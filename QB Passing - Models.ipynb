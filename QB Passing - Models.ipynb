{
 "cells": [
  {
   "cell_type": "markdown",
   "id": "sophisticated-death",
   "metadata": {},
   "source": [
    "# Load Cleaned Data"
   ]
  },
  {
   "cell_type": "code",
   "execution_count": 1,
   "id": "worth-tissue",
   "metadata": {},
   "outputs": [],
   "source": [
    "import pandas as pd\n",
    "import numpy as np\n",
    "import os\n",
    "import matplotlib.pyplot as plt\n",
    "from collections import Counter\n",
    "\n",
    "# Show all columns in DataFrames\n",
    "pd.options.display.max_columns = None\n",
    "\n",
    "random_state = 42\n",
    "\n",
    "features = pd.read_csv(os.path.join('NeuralPassing', 'Data', 'qbPassingFeatures_CLEAN.csv'), index_col=0, header=[0,1,2])"
   ]
  },
  {
   "cell_type": "markdown",
   "id": "sudden-closure",
   "metadata": {},
   "source": [
    "# Split into Training and Testing"
   ]
  },
  {
   "cell_type": "code",
   "execution_count": 2,
   "id": "trying-expert",
   "metadata": {},
   "outputs": [],
   "source": [
    "from sklearn.model_selection import train_test_split\n",
    "\n",
    "# Drop name, week, season columns (only used for data checking)\n",
    "features_ = features.drop(columns=[('name', 'name', 'name'), ('week', 'week', 'week'), ('season', 'season', 'season')])\n",
    "\n",
    "train_set, test_set = train_test_split(features_, test_size=0.2, random_state=42)"
   ]
  },
  {
   "cell_type": "code",
   "execution_count": 3,
   "id": "mighty-occasion",
   "metadata": {
    "scrolled": true
   },
   "outputs": [],
   "source": [
    "features_X = train_set.drop(('Label', 'pass_yds', 'pass_yds'),axis=1).copy()\n",
    "labels = train_set[('Label', 'pass_yds', 'pass_yds')].copy()"
   ]
  },
  {
   "cell_type": "markdown",
   "id": "junior-beast",
   "metadata": {},
   "source": [
    "# Prepare Data for ML models"
   ]
  },
  {
   "cell_type": "markdown",
   "id": "worthy-spencer",
   "metadata": {},
   "source": [
    "### One-Hot encoding"
   ]
  },
  {
   "cell_type": "code",
   "execution_count": 4,
   "id": "civilian-yellow",
   "metadata": {},
   "outputs": [],
   "source": [
    "from sklearn.preprocessing import OneHotEncoder\n",
    "\n",
    "# Convert Home, Away, NO_PLAY to one-hot\n",
    "OH_encoder = OneHotEncoder(sparse=False)\n",
    "OH_columns = list((features_X.dtypes == 'object')[(features_X.dtypes == 'object')].index)\n",
    "features_X_OH_cols = pd.DataFrame(OH_encoder.fit_transform(features_X[OH_columns]))\n",
    "\n",
    "# One-hot encoding removed index; put it back\n",
    "features_X_OH_cols.index = features_X.index\n",
    "\n",
    "# Rename columns\n",
    "a = np.hstack(OH_encoder.categories_)\n",
    "features_X_OH_cols = features_X_OH_cols.rename(columns={i : ('OH', str(int(i/3+1)), str(a[i])) for i in range(18)})\n",
    "\n",
    "# Replace columns with their one-hot versions\n",
    "features_X = features_X.drop(OH_columns, axis=1)\n",
    "\n",
    "# Add one-hot encoded columns to numerical features\n",
    "features_X = pd.concat([features_X, features_X_OH_cols], axis=1)"
   ]
  },
  {
   "cell_type": "markdown",
   "id": "conscious-disabled",
   "metadata": {},
   "source": [
    "### Scale Data"
   ]
  },
  {
   "cell_type": "code",
   "execution_count": 5,
   "id": "identified-brand",
   "metadata": {},
   "outputs": [],
   "source": [
    "from sklearn.preprocessing import MinMaxScaler\n",
    "\n",
    "scaler = MinMaxScaler()\n",
    "features_X = pd.DataFrame(scaler.fit_transform(features_X), index=features_X.index, columns=features_X.columns)"
   ]
  },
  {
   "cell_type": "markdown",
   "id": "stopped-landing",
   "metadata": {},
   "source": [
    "# Select and Train Models\n",
    "Evaluate each model with 10 cross-validation folds, evaluating the resultant `mean` and `standard deviation`."
   ]
  },
  {
   "cell_type": "code",
   "execution_count": 6,
   "id": "broken-probe",
   "metadata": {},
   "outputs": [],
   "source": [
    "from sklearn.model_selection import cross_val_score\n",
    "\n",
    "def display_scores(scores):\n",
    "    print(\"Scores:\", scores)\n",
    "    print(\"Mean:\", scores.mean())\n",
    "    print(\"Standard deviation:\", scores.std())"
   ]
  },
  {
   "cell_type": "markdown",
   "id": "significant-capture",
   "metadata": {},
   "source": [
    "Although will be using cross-validation, for the purpose of producing a plot for each model, create a training and validating set."
   ]
  },
  {
   "cell_type": "code",
   "execution_count": 7,
   "id": "thick-hours",
   "metadata": {},
   "outputs": [],
   "source": [
    "plot_train, plot_validate = train_test_split(pd.concat([features_X, labels], axis=1), test_size=0.2, random_state=42)\n",
    "\n",
    "plot_train_features = plot_train.drop(('Label', 'pass_yds', 'pass_yds'),axis=1).copy()\n",
    "plot_train_labels = plot_train[('Label', 'pass_yds', 'pass_yds')].copy()\n",
    "\n",
    "plot_validate_features = plot_validate.drop(('Label', 'pass_yds', 'pass_yds'),axis=1).copy()\n",
    "plot_validate_labels = plot_validate[('Label', 'pass_yds', 'pass_yds')].copy()"
   ]
  },
  {
   "cell_type": "code",
   "execution_count": 18,
   "id": "future-palestine",
   "metadata": {},
   "outputs": [],
   "source": [
    "def plot_model(model):\n",
    "    model.fit(plot_train_features, plot_train_labels)\n",
    "    plt.figure(figsize=(6,6))\n",
    "    plt.scatter(plot_validate_labels, model.predict(plot_validate_features))\n",
    "    plt.xlim([0,500])\n",
    "    plt.ylim([0,500])\n",
    "    plt.xlabel('True Value (Yards)')\n",
    "    plt.ylabel('Predicted Value (Yards)')\n",
    "    plt.show()"
   ]
  },
  {
   "cell_type": "markdown",
   "id": "chinese-episode",
   "metadata": {},
   "source": [
    "Create a function for comparing model to just guessing mean value of 251 yards:"
   ]
  },
  {
   "cell_type": "code",
   "execution_count": 29,
   "id": "systematic-matthew",
   "metadata": {},
   "outputs": [],
   "source": [
    "from sklearn.metrics import mean_squared_error\n",
    "\n",
    "def compare_mean_guess(model):\n",
    "    model.fit(plot_train_features, plot_train_labels)\n",
    "    print('RMSE model: ', np.sqrt(mean_squared_error(plot_validate_labels, model.predict(plot_validate_features))))\n",
    "    print('Mean guesser model: ', np.sqrt(mean_squared_error(plot_validate_labels, 251*np.ones(len(plot_validate_labels)))))"
   ]
  },
  {
   "cell_type": "markdown",
   "id": "increased-poison",
   "metadata": {},
   "source": [
    "## Linear Model"
   ]
  },
  {
   "cell_type": "code",
   "execution_count": 9,
   "id": "developmental-serial",
   "metadata": {},
   "outputs": [
    {
     "name": "stdout",
     "output_type": "stream",
     "text": [
      "Scores: [74.54625506 79.97308106 83.35363717 78.43503078 80.49460739 73.90298559\n",
      " 72.9905485  75.09043033 73.31701674 72.43040547]\n",
      "Mean: 76.45339980792748\n",
      "Standard deviation: 3.6093195020155817\n"
     ]
    }
   ],
   "source": [
    "from sklearn.linear_model import LinearRegression\n",
    "\n",
    "lin_reg = LinearRegression()\n",
    "lin_scores = cross_val_score(lin_reg, features_X, labels,\n",
    "                             scoring=\"neg_mean_squared_error\", cv=10)\n",
    "lin_rmse_scores = np.sqrt(-lin_scores)\n",
    "display_scores(lin_rmse_scores)"
   ]
  },
  {
   "cell_type": "code",
   "execution_count": 24,
   "id": "ecological-henry",
   "metadata": {},
   "outputs": [
    {
     "data": {
      "image/png": "[encoded data removed]",
      "text/plain": [
       "<Figure size 432x432 with 1 Axes>"
      ]
     },
     "metadata": {
      "needs_background": "light"
     },
     "output_type": "display_data"
    }
   ],
   "source": [
    "plot_model(lin_reg)"
   ]
  },
  {
   "cell_type": "code",
   "execution_count": 31,
   "id": "stupid-twins",
   "metadata": {},
   "outputs": [
    {
     "name": "stdout",
     "output_type": "stream",
     "text": [
      "RMSE model:  73.63035966402306\n",
      "Mean guesser model:  72.87493160277131\n"
     ]
    }
   ],
   "source": [
    "compare_mean_guess(lin_reg)"
   ]
  },
  {
   "cell_type": "markdown",
   "id": "organizational-theater",
   "metadata": {},
   "source": [
    "## Random Forest"
   ]
  },
  {
   "cell_type": "code",
   "execution_count": 22,
   "id": "wanted-baseline",
   "metadata": {},
   "outputs": [
    {
     "name": "stdout",
     "output_type": "stream",
     "text": [
      "Scores: [68.96003437 77.03256724 78.54995096 71.78992012 70.33505933 69.11812738\n",
      " 70.16604234 69.08226897 72.06587044 64.30763975]\n",
      "Mean: 71.14074808919761\n",
      "Standard deviation: 3.9020698887405247\n"
     ]
    }
   ],
   "source": [
    "from sklearn.ensemble import RandomForestRegressor\n",
    "\n",
    "forest_reg = RandomForestRegressor(n_estimators=100, random_state=random_state)\n",
    "forest_scores = cross_val_score(forest_reg, features_X, labels,\n",
    "                             scoring=\"neg_mean_squared_error\", cv=10)\n",
    "forest_rmse_scores = np.sqrt(-forest_scores)\n",
    "display_scores(forest_rmse_scores)"
   ]
  },
  {
   "cell_type": "code",
   "execution_count": 25,
   "id": "unusual-factory",
   "metadata": {},
   "outputs": [
    {
     "data": {
      "image/png": "[encoded data removed]",
      "text/plain": [
       "<Figure size 432x432 with 1 Axes>"
      ]
     },
     "metadata": {
      "needs_background": "light"
     },
     "output_type": "display_data"
    }
   ],
   "source": [
    "plot_model(forest_reg)"
   ]
  },
  {
   "cell_type": "code",
   "execution_count": 32,
   "id": "excess-queensland",
   "metadata": {},
   "outputs": [
    {
     "name": "stdout",
     "output_type": "stream",
     "text": [
      "RMSE model:  71.50984355871473\n",
      "Mean guesser model:  72.87493160277131\n"
     ]
    }
   ],
   "source": [
    "compare_mean_guess(forest_reg)"
   ]
  }
 ],
 "metadata": {
  "kernelspec": {
   "display_name": "Python 3",
   "language": "python",
   "name": "python3"
  },
  "language_info": {
   "codemirror_mode": {
    "name": "ipython",
    "version": 3
   },
   "file_extension": ".py",
   "mimetype": "text/x-python",
   "name": "python",
   "nbconvert_exporter": "python",
   "pygments_lexer": "ipython3",
   "version": "3.8.6"
  }
 },
 "nbformat": 4,
 "nbformat_minor": 5
}
