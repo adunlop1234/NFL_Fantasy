{
 "cells": [
  {
   "cell_type": "markdown",
   "id": "satisfied-navigator",
   "metadata": {},
   "source": [
    "# Load Data"
   ]
  },
  {
   "cell_type": "code",
   "execution_count": 1,
   "id": "alone-offer",
   "metadata": {},
   "outputs": [],
   "source": [
    "import pandas as pd\n",
    "import numpy as np\n",
    "import os\n",
    "import matplotlib.pyplot as plt\n",
    "from collections import Counter\n",
    "\n",
    "# Show all columns in DataFrames\n",
    "pd.options.display.max_columns = None\n",
    "\n",
    "features = pd.read_csv(os.path.join('NeuralPassing', 'Data', 'qbPassingFeatures.csv'), index_col=0, header=[0,1,2])\n",
    "features_columns = features.columns.values"
   ]
  },
  {
   "cell_type": "markdown",
   "id": "identical-comment",
   "metadata": {},
   "source": [
    "# Clean Data"
   ]
  },
  {
   "cell_type": "markdown",
   "id": "adjustable-package",
   "metadata": {},
   "source": [
    "### Remove"
   ]
  },
  {
   "cell_type": "markdown",
   "id": "based-dominant",
   "metadata": {},
   "source": [
    "Remove rows with:\n",
    "* Labels < 75\n",
    "* QBs missed 3 or more of past 6 games\n",
    "* QB plays a minor role (e.g. Taysom Hill) defined by < 75 yards in 3 or more past 6 games\n",
    "* Fewer than 60 total pass attempts over past 6 games"
   ]
  },
  {
   "cell_type": "code",
   "execution_count": 2,
   "id": "under-apparel",
   "metadata": {},
   "outputs": [
    {
     "name": "stdout",
     "output_type": "stream",
     "text": [
      "1589\n",
      "1503\n",
      "1409\n",
      "1398\n",
      "1380\n"
     ]
    }
   ],
   "source": [
    "print(len(features))\n",
    "\n",
    "# Labels < 75\n",
    "features = features[features[('Label', 'pass_yds', 'pass_yds')] >= 75]\n",
    "\n",
    "print(len(features))\n",
    "\n",
    "# Missed 3 or more of past 6 games\n",
    "features = features[(pd.isna(features[[('QB', 'pass_yds', str(i)) for i in range(1,7)]])).sum(axis=1) < 3]\n",
    "\n",
    "print(len(features))\n",
    "\n",
    "# Minor role\n",
    "features = features[(features[[('QB', 'pass_yds', str(i)) for i in range(1,7)]] <= 75).sum(axis=1) < 3]\n",
    "\n",
    "print(len(features))\n",
    "\n",
    "# Fewer 60 pass attempts in 6 games\n",
    "features[('QB','Total_pass_att','Total_pass_att')] = features[[('QB', 'pass_cmp', str(i)) for i in range(1,7)]].sum(axis=1)\n",
    "features = features[features[('QB','Total_pass_att','Total_pass_att')] >= 60]\n",
    "\n",
    "print(len(features))\n",
    "\n",
    "\n",
    "# Only keep orignal columns\n",
    "features = features[features_columns]"
   ]
  },
  {
   "cell_type": "markdown",
   "id": "speaking-terminal",
   "metadata": {},
   "source": [
    "### Replace Empty Values"
   ]
  },
  {
   "cell_type": "markdown",
   "id": "marked-terrace",
   "metadata": {},
   "source": [
    "Fill in empty values (mostly due to BYE weeks, but some missed weeks due to injury too) with mean of values in row. E.g. if BYE week, then the QB's numbers for this will be filled in with the mean of the other 5 values. This is preferred to the mean values of the overall data."
   ]
  },
  {
   "cell_type": "code",
   "execution_count": 3,
   "id": "defensive-player",
   "metadata": {},
   "outputs": [
    {
     "name": "stdout",
     "output_type": "stream",
     "text": [
      "Number of NaNs:  18756\n"
     ]
    }
   ],
   "source": [
    "print('Number of NaNs: ' , features.isna().sum().sum())"
   ]
  },
  {
   "cell_type": "markdown",
   "id": "liberal-couple",
   "metadata": {},
   "source": [
    "#### QB Empty Values"
   ]
  },
  {
   "cell_type": "code",
   "execution_count": 4,
   "id": "liberal-branch",
   "metadata": {
    "scrolled": true
   },
   "outputs": [
    {
     "name": "stdout",
     "output_type": "stream",
     "text": [
      "Number of NaNs:  9792\n"
     ]
    }
   ],
   "source": [
    "idx = pd.IndexSlice\n",
    "\n",
    "# Loop over the numeric second-level QB columns (e.g. pass_yds, pass_att ...)\n",
    "for f in [n for n in set(features.loc[:2,idx['QB',:]].columns.get_level_values(1)) if n != 'home_game']:\n",
    "    \n",
    "    # Using: https://stackoverflow.com/questions/33058590/pandas-dataframe-replacing-nan-with-row-average\n",
    "    features.loc[:,idx['QB',f,:]] = features.loc[:,idx['QB',f,:]].T.fillna(features.loc[:,idx['QB',f,:]].mean(axis=1)).T\n",
    "\n",
    "print('Number of NaNs: ' , features.isna().sum().sum())   "
   ]
  },
  {
   "cell_type": "markdown",
   "id": "particular-utility",
   "metadata": {},
   "source": [
    "#### Offence BYE weeks"
   ]
  },
  {
   "cell_type": "code",
   "execution_count": 5,
   "id": "convinced-wichita",
   "metadata": {},
   "outputs": [
    {
     "name": "stdout",
     "output_type": "stream",
     "text": [
      "Number of NaNs:  7344\n"
     ]
    }
   ],
   "source": [
    "# Loop over the numeric second-level offence columns (e.g. rush_yds, rush_att ...)\n",
    "for f in set(features.loc[:2,idx['Offence',:]].columns.get_level_values(1)):\n",
    "    \n",
    "    # Using: https://stackoverflow.com/questions/33058590/pandas-dataframe-replacing-nan-with-row-average\n",
    "    features.loc[:,idx['Offence',f,:]] = features.loc[:,idx['Offence',f,:]].T.fillna(features.loc[:,idx['Offence',f,:]].mean(axis=1)).T\n",
    "\n",
    "print('Number of NaNs: ' , features.isna().sum().sum())   "
   ]
  },
  {
   "cell_type": "markdown",
   "id": "weekly-charter",
   "metadata": {},
   "source": [
    "#### Defence BYE weeks"
   ]
  },
  {
   "cell_type": "code",
   "execution_count": 6,
   "id": "affected-tours",
   "metadata": {},
   "outputs": [
    {
     "name": "stdout",
     "output_type": "stream",
     "text": [
      "Number of NaNs:  0\n"
     ]
    }
   ],
   "source": [
    "# Loop over the numeric second-level defence columns (e.g. pass_yds, pass_att ...)\n",
    "for f in set(features.loc[:2,idx['Defence_upcom_mean',:]].columns.get_level_values(1)):\n",
    "    \n",
    "    # Using: https://stackoverflow.com/questions/33058590/pandas-dataframe-replacing-nan-with-row-average\n",
    "    features.loc[:,idx['Defence_prev_mean',f,:]] = features.loc[:,idx['Defence_prev_mean',f,:]].T.fillna(features.loc[:,idx['Defence_prev_mean',f,:]].mean(axis=1)).T\n",
    "\n",
    "print('Number of NaNs: ' , features.isna().sum().sum())   "
   ]
  },
  {
   "cell_type": "code",
   "execution_count": 7,
   "id": "numeric-ethnic",
   "metadata": {},
   "outputs": [],
   "source": [
    "# Save cleaned data\n",
    "features.to_csv(os.path.join('NeuralPassing', 'Data', 'qbPassingFeatures_CLEAN.csv'))"
   ]
  }
 ],
 "metadata": {
  "kernelspec": {
   "display_name": "Python 3",
   "language": "python",
   "name": "python3"
  },
  "language_info": {
   "codemirror_mode": {
    "name": "ipython",
    "version": 3
   },
   "file_extension": ".py",
   "mimetype": "text/x-python",
   "name": "python",
   "nbconvert_exporter": "python",
   "pygments_lexer": "ipython3",
   "version": "3.8.6"
  }
 },
 "nbformat": 4,
 "nbformat_minor": 5
}
